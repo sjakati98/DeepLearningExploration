{
 "cells": [
  {
   "cell_type": "code",
   "execution_count": 0,
   "metadata": {
    "colab": {
     "autoexec": {
      "startup": false,
      "wait_interval": 0
     }
    },
    "colab_type": "code",
    "collapsed": true,
    "id": "g-VdVccOkO47"
   },
   "outputs": [],
   "source": [
    "## imports\n",
    "import numpy as np\n",
    "import matplotlib.pyplot as plt\n",
    "from scipy.stats import norm\n",
    "\n",
    "import json\n",
    "from google.colab import files\n",
    "\n",
    "import keras\n",
    "from keras import backend as K\n",
    "\n",
    "from keras.layers import Input, Dense, Lambda, Layer, Conv2DTranspose, Reshape, Conv2D, Flatten\n",
    "from keras.models import Model, Sequential\n",
    "from keras.datasets import mnist"
   ]
  },
  {
   "cell_type": "code",
   "execution_count": 2,
   "metadata": {
    "colab": {
     "autoexec": {
      "startup": false,
      "wait_interval": 0
     },
     "base_uri": "https://localhost:8080/",
     "height": 34
    },
    "colab_type": "code",
    "executionInfo": {
     "elapsed": 298,
     "status": "ok",
     "timestamp": 1533168610865,
     "user": {
      "displayName": "Shishir Jakati",
      "photoUrl": "https://lh3.googleusercontent.com/a/default-user=s128",
      "userId": "116965669395553597049"
     },
     "user_tz": 240
    },
    "id": "Smco480VomAV",
    "outputId": "cee8d935-8ff9-455a-c561-2f2de372a865"
   },
   "outputs": [
    {
     "name": "stdout",
     "output_type": "stream",
     "text": [
      "(?, 32)\n"
     ]
    }
   ],
   "source": [
    "img_shape = (28, 28, 1)\n",
    "batch_size = 16\n",
    "latent_dim = 3 \n",
    "\n",
    "input_img = keras.Input(shape=img_shape)\n",
    "\n",
    "encoder = Conv2D(32, 3, padding=\"same\", activation=\"relu\")(input_img)\n",
    "encoder = Conv2D(64, 3, padding=\"same\", strides=(2,2), activation=\"relu\")(encoder)\n",
    "encoder = Conv2D(64, 3, padding=\"same\", activation=\"relu\")(encoder)\n",
    "encoder = Conv2D(64, 3, padding=\"same\", activation=\"relu\")(encoder)\n",
    "\n",
    "\n",
    "shape_before_flattening = K.int_shape(encoder)\n",
    "\n",
    "encoder = Flatten()(encoder)\n",
    "encoder = Dense(32, activation=\"relu\")(encoder)\n",
    "\n",
    "print(encoder.shape)\n",
    "z_mean = Dense(latent_dim)(encoder)\n",
    "z_log_var = Dense(latent_dim)(encoder)"
   ]
  },
  {
   "cell_type": "code",
   "execution_count": 0,
   "metadata": {
    "colab": {
     "autoexec": {
      "startup": false,
      "wait_interval": 0
     }
    },
    "colab_type": "code",
    "collapsed": true,
    "id": "RxARb-A1-Kds"
   },
   "outputs": [],
   "source": [
    "def sampling(args):\n",
    "    z_mean, z_log_var = args\n",
    "    epsilon = K.random_normal(shape=(K.shape(z_mean)[0], latent_dim),\n",
    "                              mean=0., stddev=1.)\n",
    "    return z_mean + K.exp(z_log_var) * epsilon\n",
    "\n",
    "z = Lambda(sampling)([z_mean, z_log_var])"
   ]
  },
  {
   "cell_type": "markdown",
   "metadata": {
    "colab_type": "text",
    "id": "rRZhq0VoonQc"
   },
   "source": []
  },
  {
   "cell_type": "code",
   "execution_count": 0,
   "metadata": {
    "colab": {
     "autoexec": {
      "startup": false,
      "wait_interval": 0
     }
    },
    "colab_type": "code",
    "collapsed": true,
    "id": "6HJtf-A0-MOx"
   },
   "outputs": [],
   "source": [
    "decoder_input = Input(K.int_shape(z)[1:])\n",
    "decoder  = Dense(np.prod(shape_before_flattening[1:]), activation='relu')(decoder_input)\n",
    "decoder  = Reshape(shape_before_flattening[1:])(decoder)\n",
    "decoder  = Conv2DTranspose(32, 3,\n",
    "                           padding='same', activation='relu',\n",
    "                           strides=(2, 2))(decoder)\n",
    "decoder = Conv2D(1, 3, padding='same', activation='sigmoid')(decoder)\n",
    "decoder = Model(decoder_input, decoder)\n",
    "z_decoded = decoder(z)"
   ]
  },
  {
   "cell_type": "code",
   "execution_count": 0,
   "metadata": {
    "colab": {
     "autoexec": {
      "startup": false,
      "wait_interval": 0
     }
    },
    "colab_type": "code",
    "collapsed": true,
    "id": "gXobOoVi-OPY"
   },
   "outputs": [],
   "source": [
    "class CustomVariationalLayer(keras.layers.Layer):\n",
    "\n",
    "    def vae_loss(self, x, z_decoded):\n",
    "        x = K.flatten(x)\n",
    "        z_decoded = K.flatten(z_decoded)\n",
    "        xent_loss = keras.metrics.binary_crossentropy(x, z_decoded)\n",
    "        kl_loss = -5e-4 * K.mean(\n",
    "            1 + z_log_var - K.square(z_mean) - K.exp(z_log_var), axis=-1)\n",
    "        return K.mean(xent_loss + kl_loss)\n",
    "\n",
    "    def call(self, inputs):\n",
    "        x = inputs[0]\n",
    "        z_decoded = inputs[1]\n",
    "        loss = self.vae_loss(x, z_decoded)\n",
    "        self.add_loss(loss, inputs=inputs)\n",
    "        # We don't use this output.\n",
    "        return x\n",
    "\n",
    "# We call our custom layer on the input and the decoded output,\n",
    "# to obtain the final model output.\n",
    "y = CustomVariationalLayer()([input_img, z_decoded])"
   ]
  },
  {
   "cell_type": "code",
   "execution_count": 6,
   "metadata": {
    "colab": {
     "autoexec": {
      "startup": false,
      "wait_interval": 0
     },
     "base_uri": "https://localhost:8080/",
     "height": 1040
    },
    "colab_type": "code",
    "executionInfo": {
     "elapsed": 4076136,
     "status": "ok",
     "timestamp": 1533172731241,
     "user": {
      "displayName": "Shishir Jakati",
      "photoUrl": "https://lh3.googleusercontent.com/a/default-user=s128",
      "userId": "116965669395553597049"
     },
     "user_tz": 240
    },
    "id": "ycJ7q10O-P_H",
    "outputId": "4abb13f5-692f-4d9f-cc4d-3d7fba6dc3db"
   },
   "outputs": [
    {
     "name": "stderr",
     "output_type": "stream",
     "text": [
      "/usr/local/lib/python3.6/dist-packages/ipykernel_launcher.py:4: UserWarning: Output \"custom_variational_layer_1\" missing from loss dictionary. We assume this was done on purpose, and we will not be expecting any data to be passed to \"custom_variational_layer_1\" during training.\n",
      "  after removing the cwd from sys.path.\n"
     ]
    },
    {
     "name": "stdout",
     "output_type": "stream",
     "text": [
      "__________________________________________________________________________________________________\n",
      "Layer (type)                    Output Shape         Param #     Connected to                     \n",
      "==================================================================================================\n",
      "input_1 (InputLayer)            (None, 28, 28, 1)    0                                            \n",
      "__________________________________________________________________________________________________\n",
      "conv2d_1 (Conv2D)               (None, 28, 28, 32)   320         input_1[0][0]                    \n",
      "__________________________________________________________________________________________________\n",
      "conv2d_2 (Conv2D)               (None, 14, 14, 64)   18496       conv2d_1[0][0]                   \n",
      "__________________________________________________________________________________________________\n",
      "conv2d_3 (Conv2D)               (None, 14, 14, 64)   36928       conv2d_2[0][0]                   \n",
      "__________________________________________________________________________________________________\n",
      "conv2d_4 (Conv2D)               (None, 14, 14, 64)   36928       conv2d_3[0][0]                   \n",
      "__________________________________________________________________________________________________\n",
      "flatten_1 (Flatten)             (None, 12544)        0           conv2d_4[0][0]                   \n",
      "__________________________________________________________________________________________________\n",
      "dense_1 (Dense)                 (None, 32)           401440      flatten_1[0][0]                  \n",
      "__________________________________________________________________________________________________\n",
      "dense_2 (Dense)                 (None, 3)            99          dense_1[0][0]                    \n",
      "__________________________________________________________________________________________________\n",
      "dense_3 (Dense)                 (None, 3)            99          dense_1[0][0]                    \n",
      "__________________________________________________________________________________________________\n",
      "lambda_1 (Lambda)               (None, 3)            0           dense_2[0][0]                    \n",
      "                                                                 dense_3[0][0]                    \n",
      "__________________________________________________________________________________________________\n",
      "model_1 (Model)                 (None, 28, 28, 1)    68929       lambda_1[0][0]                   \n",
      "__________________________________________________________________________________________________\n",
      "custom_variational_layer_1 (Cus [(None, 28, 28, 1),  0           input_1[0][0]                    \n",
      "                                                                 model_1[1][0]                    \n",
      "==================================================================================================\n",
      "Total params: 563,239\n",
      "Trainable params: 563,239\n",
      "Non-trainable params: 0\n",
      "__________________________________________________________________________________________________\n",
      "Downloading data from https://s3.amazonaws.com/img-datasets/mnist.npz\n",
      " 4145152/11490434 [=========>....................] - ETA: 3s11493376/11490434 [==============================] - 4s 0us/step\n",
      "Train on 60000 samples, validate on 10000 samples\n",
      "Epoch 1/10\n",
      " 7744/60000 [==>...........................] - ETA: 5:41 - loss: 3181.003031376/60000 [==============>...............] - ETA: 3:09 - loss: 785.261160000/60000 [==============================] - 420s 7ms/step - loss: 410.7280 - val_loss: 0.1808\n",
      "Epoch 2/10\n",
      "41648/60000 [===================>..........] - ETA: 2:01 - loss: 0.181960000/60000 [==============================] - 411s 7ms/step - loss: 0.1820 - val_loss: 0.1818\n",
      "Epoch 3/10\n",
      " 1472/60000 [..............................] - ETA: 6:27 - loss: 0.182523808/60000 [==========>...................] - ETA: 3:54 - loss: 0.189960000/60000 [==============================] - 412s 7ms/step - loss: 0.1906 - val_loss: 0.1845\n",
      "Epoch 4/10\n",
      "24064/60000 [===========>..................] - ETA: 3:58 - loss: 0.181250464/60000 [========================>.....] - ETA: 1:02 - loss: 0.180260000/60000 [==============================] - 411s 7ms/step - loss: 0.1798 - val_loss: 0.1775\n",
      "Epoch 5/10\n",
      " 4960/60000 [=>............................] - ETA: 5:55 - loss: 0.177227552/60000 [============>.................] - ETA: 3:27 - loss: 0.176558048/60000 [============================>.] - ETA: 12s - loss: 0.176660000/60000 [==============================] - 404s 7ms/step - loss: 0.1766 - val_loss: 0.1765\n",
      "Epoch 6/10\n",
      " 8000/60000 [===>..........................] - ETA: 5:36 - loss: 0.176629856/60000 [=============>................] - ETA: 3:15 - loss: 0.176054704/60000 [==========================>...] - ETA: 34s - loss: 0.175660000/60000 [==============================] - 405s 7ms/step - loss: 0.1755 - val_loss: 0.1754\n",
      "Epoch 7/10\n",
      " 6416/60000 [==>...........................] - ETA: 5:41 - loss: 0.17626880/60000 [============>.................] - ETA: 3:31 - loss: 0.176047680/60000 [======================>.......] - ETA: 1:18 - loss: 0.175760000/60000 [==============================] - 400s 7ms/step - loss: 0.1755 - val_loss: 0.1722\n",
      "Epoch 8/10\n",
      " 3856/60000 [>.............................] - ETA: 6:02 - loss: 0.175926080/60000 [============>.................] - ETA: 3:38 - loss: 0.175347472/60000 [======================>.......] - ETA: 1:20 - loss: 0.175860000/60000 [==============================] - 402s 7ms/step - loss: 0.1759 - val_loss: 0.1766\n",
      "Epoch 9/10\n",
      " 3408/60000 [>.............................] - ETA: 6:00 - loss: 0.18228400/60000 [=============>................] - ETA: 3:23 - loss: 0.176149728/60000 [=======================>......] - ETA: 1:06 - loss: 0.175960000/60000 [==============================] - 405s 7ms/step - loss: 0.1761 - val_loss: 0.1793\n",
      "Epoch 10/10\n",
      " 4688/60000 [=>............................] - ETA: 5:56 - loss: 0.176825344/60000 [===========>..................] - ETA: 3:41 - loss: 0.175446608/60000 [======================>.......] - ETA: 1:25 - loss: 0.176460000/60000 [==============================] - 401s 7ms/step - loss: 0.1767 - val_loss: 0.1744\n"
     ]
    },
    {
     "data": {
      "text/plain": [
       "<keras.callbacks.History at 0x7f4e6a0d9550>"
      ]
     },
     "execution_count": 6,
     "metadata": {
      "tags": []
     },
     "output_type": "execute_result"
    }
   ],
   "source": [
    "from keras.datasets import mnist\n",
    "\n",
    "vae = Model(input_img, y)\n",
    "vae.compile(optimizer='rmsprop', loss=None)\n",
    "vae.summary()\n",
    "\n",
    "# Train the VAE on MNIST digits\n",
    "(x_train, _), (x_test, y_test) = mnist.load_data()\n",
    "\n",
    "x_train = x_train.astype('float32') / 255.\n",
    "x_train = x_train.reshape(x_train.shape + (1,))\n",
    "x_test = x_test.astype('float32') / 255.\n",
    "x_test = x_test.reshape(x_test.shape + (1,))\n",
    "\n",
    "vae.fit(x=x_train, y=None,\n",
    "        shuffle=True,\n",
    "        epochs=10,\n",
    "        batch_size=batch_size,\n",
    "        validation_data=(x_test, None))"
   ]
  },
  {
   "cell_type": "code",
   "execution_count": 0,
   "metadata": {
    "colab": {
     "autoexec": {
      "startup": false,
      "wait_interval": 0
     }
    },
    "colab_type": "code",
    "collapsed": true,
    "id": "Ry12do56-Rqf"
   },
   "outputs": [],
   "source": [
    "vae.save('./vae_tutorial_model.h5')\n",
    "vae_tutorial_model_json = vae.to_json()\n",
    "with open('./var_tutorial_model_string.json', 'w') as outfile:\n",
    "  json.dump(vae_tutorial_model_json, outfile)"
   ]
  },
  {
   "cell_type": "code",
   "execution_count": 0,
   "metadata": {
    "colab": {
     "autoexec": {
      "startup": false,
      "wait_interval": 0
     }
    },
    "colab_type": "code",
    "collapsed": true,
    "id": "fLYSRGtKOyOz"
   },
   "outputs": [],
   "source": [
    "files.download('vae_tutorial_model.h5')\n",
    "files.download('var_tutorial_model_string.json')"
   ]
  },
  {
   "cell_type": "code",
   "execution_count": 0,
   "metadata": {
    "colab": {
     "autoexec": {
      "startup": false,
      "wait_interval": 0
     }
    },
    "colab_type": "code",
    "collapsed": true,
    "id": "-3wvnFhrPmK3"
   },
   "outputs": [],
   "source": []
  }
 ],
 "metadata": {
  "colab": {
   "collapsed_sections": [],
   "default_view": {},
   "name": "Keras VAE Tutorial.ipynb",
   "provenance": [],
   "version": "0.3.2",
   "views": {}
  },
  "kernelspec": {
   "display_name": "Python 3",
   "language": "python",
   "name": "python3"
  },
  "language_info": {
   "codemirror_mode": {
    "name": "ipython",
    "version": 3
   },
   "file_extension": ".py",
   "mimetype": "text/x-python",
   "name": "python",
   "nbconvert_exporter": "python",
   "pygments_lexer": "ipython3",
   "version": "3.6.3"
  }
 },
 "nbformat": 4,
 "nbformat_minor": 1
}
