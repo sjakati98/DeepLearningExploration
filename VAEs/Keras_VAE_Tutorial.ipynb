{
  "nbformat": 4,
  "nbformat_minor": 0,
  "metadata": {
    "colab": {
      "name": "Keras VAE Tutorial.ipynb",
      "version": "0.3.2",
      "views": {},
      "default_view": {},
      "provenance": [],
      "collapsed_sections": []
    },
    "kernelspec": {
      "name": "python3",
      "display_name": "Python 3"
    }
  },
  "cells": [
    {
      "metadata": {
        "id": "g-VdVccOkO47",
        "colab_type": "code",
        "colab": {
          "autoexec": {
            "startup": false,
            "wait_interval": 0
          }
        }
      },
      "cell_type": "code",
      "source": [
        "## imports\n",
        "import numpy as np\n",
        "import matplotlib.pyplot as plt\n",
        "from scipy.stats import norm\n",
        "\n",
        "import json\n",
        "from google.colab import files\n",
        "\n",
        "import keras\n",
        "from keras import backend as K\n",
        "\n",
        "from keras.layers import Input, Dense, Lambda, Layer, Conv2DTranspose, Reshape, Conv2D, Flatten\n",
        "from keras.models import Model, Sequential\n",
        "from keras.datasets import mnist"
      ],
      "execution_count": 0,
      "outputs": []
    },
    {
      "metadata": {
        "id": "Smco480VomAV",
        "colab_type": "code",
        "colab": {
          "autoexec": {
            "startup": false,
            "wait_interval": 0
          },
          "base_uri": "https://localhost:8080/",
          "height": 34
        },
        "outputId": "cee8d935-8ff9-455a-c561-2f2de372a865",
        "executionInfo": {
          "status": "ok",
          "timestamp": 1533168610865,
          "user_tz": 240,
          "elapsed": 298,
          "user": {
            "displayName": "Shishir Jakati",
            "photoUrl": "https://lh3.googleusercontent.com/a/default-user=s128",
            "userId": "116965669395553597049"
          }
        }
      },
      "cell_type": "code",
      "source": [
        "img_shape = (28, 28, 1)\n",
        "batch_size = 16\n",
        "latent_dim = 3 \n",
        "\n",
        "input_img = keras.Input(shape=img_shape)\n",
        "\n",
        "encoder = Conv2D(32, 3, padding=\"same\", activation=\"relu\")(input_img)\n",
        "encoder = Conv2D(64, 3, padding=\"same\", strides=(2,2), activation=\"relu\")(encoder)\n",
        "encoder = Conv2D(64, 3, padding=\"same\", activation=\"relu\")(encoder)\n",
        "encoder = Conv2D(64, 3, padding=\"same\", activation=\"relu\")(encoder)\n",
        "\n",
        "\n",
        "shape_before_flattening = K.int_shape(encoder)\n",
        "\n",
        "encoder = Flatten()(encoder)\n",
        "encoder = Dense(32, activation=\"relu\")(encoder)\n",
        "\n",
        "print(encoder.shape)\n",
        "z_mean = Dense(latent_dim)(encoder)\n",
        "z_log_var = Dense(latent_dim)(encoder)"
      ],
      "execution_count": 2,
      "outputs": [
        {
          "output_type": "stream",
          "text": [
            "(?, 32)\n"
          ],
          "name": "stdout"
        }
      ]
    },
    {
      "metadata": {
        "id": "RxARb-A1-Kds",
        "colab_type": "code",
        "colab": {
          "autoexec": {
            "startup": false,
            "wait_interval": 0
          }
        }
      },
      "cell_type": "code",
      "source": [
        "def sampling(args):\n",
        "    z_mean, z_log_var = args\n",
        "    epsilon = K.random_normal(shape=(K.shape(z_mean)[0], latent_dim),\n",
        "                              mean=0., stddev=1.)\n",
        "    return z_mean + K.exp(z_log_var) * epsilon\n",
        "\n",
        "z = Lambda(sampling)([z_mean, z_log_var])"
      ],
      "execution_count": 0,
      "outputs": []
    },
    {
      "metadata": {
        "id": "rRZhq0VoonQc",
        "colab_type": "text"
      },
      "cell_type": "markdown",
      "source": [
        ""
      ]
    },
    {
      "metadata": {
        "id": "6HJtf-A0-MOx",
        "colab_type": "code",
        "colab": {
          "autoexec": {
            "startup": false,
            "wait_interval": 0
          }
        }
      },
      "cell_type": "code",
      "source": [
        "decoder_input = Input(K.int_shape(z)[1:])\n",
        "decoder  = Dense(np.prod(shape_before_flattening[1:]), activation='relu')(decoder_input)\n",
        "decoder  = Reshape(shape_before_flattening[1:])(decoder)\n",
        "decoder  = Conv2DTranspose(32, 3,\n",
        "                           padding='same', activation='relu',\n",
        "                           strides=(2, 2))(decoder)\n",
        "decoder = Conv2D(1, 3, padding='same', activation='sigmoid')(decoder)\n",
        "decoder = Model(decoder_input, decoder)\n",
        "z_decoded = decoder(z)"
      ],
      "execution_count": 0,
      "outputs": []
    },
    {
      "metadata": {
        "id": "gXobOoVi-OPY",
        "colab_type": "code",
        "colab": {
          "autoexec": {
            "startup": false,
            "wait_interval": 0
          }
        }
      },
      "cell_type": "code",
      "source": [
        "class CustomVariationalLayer(keras.layers.Layer):\n",
        "\n",
        "    def vae_loss(self, x, z_decoded):\n",
        "        x = K.flatten(x)\n",
        "        z_decoded = K.flatten(z_decoded)\n",
        "        xent_loss = keras.metrics.binary_crossentropy(x, z_decoded)\n",
        "        kl_loss = -5e-4 * K.mean(\n",
        "            1 + z_log_var - K.square(z_mean) - K.exp(z_log_var), axis=-1)\n",
        "        return K.mean(xent_loss + kl_loss)\n",
        "\n",
        "    def call(self, inputs):\n",
        "        x = inputs[0]\n",
        "        z_decoded = inputs[1]\n",
        "        loss = self.vae_loss(x, z_decoded)\n",
        "        self.add_loss(loss, inputs=inputs)\n",
        "        # We don't use this output.\n",
        "        return x\n",
        "\n",
        "# We call our custom layer on the input and the decoded output,\n",
        "# to obtain the final model output.\n",
        "y = CustomVariationalLayer()([input_img, z_decoded])"
      ],
      "execution_count": 0,
      "outputs": []
    },
    {
      "metadata": {
        "id": "ycJ7q10O-P_H",
        "colab_type": "code",
        "colab": {
          "autoexec": {
            "startup": false,
            "wait_interval": 0
          },
          "base_uri": "https://localhost:8080/",
          "height": 1040
        },
        "outputId": "4abb13f5-692f-4d9f-cc4d-3d7fba6dc3db",
        "executionInfo": {
          "status": "ok",
          "timestamp": 1533172731241,
          "user_tz": 240,
          "elapsed": 4076136,
          "user": {
            "displayName": "Shishir Jakati",
            "photoUrl": "https://lh3.googleusercontent.com/a/default-user=s128",
            "userId": "116965669395553597049"
          }
        }
      },
      "cell_type": "code",
      "source": [
        "from keras.datasets import mnist\n",
        "\n",
        "vae = Model(input_img, y)\n",
        "vae.compile(optimizer='rmsprop', loss=None)\n",
        "vae.summary()\n",
        "\n",
        "# Train the VAE on MNIST digits\n",
        "(x_train, _), (x_test, y_test) = mnist.load_data()\n",
        "\n",
        "x_train = x_train.astype('float32') / 255.\n",
        "x_train = x_train.reshape(x_train.shape + (1,))\n",
        "x_test = x_test.astype('float32') / 255.\n",
        "x_test = x_test.reshape(x_test.shape + (1,))\n",
        "\n",
        "vae.fit(x=x_train, y=None,\n",
        "        shuffle=True,\n",
        "        epochs=10,\n",
        "        batch_size=batch_size,\n",
        "        validation_data=(x_test, None))"
      ],
      "execution_count": 6,
      "outputs": [
        {
          "output_type": "stream",
          "text": [
            "/usr/local/lib/python3.6/dist-packages/ipykernel_launcher.py:4: UserWarning: Output \"custom_variational_layer_1\" missing from loss dictionary. We assume this was done on purpose, and we will not be expecting any data to be passed to \"custom_variational_layer_1\" during training.\n",
            "  after removing the cwd from sys.path.\n"
          ],
          "name": "stderr"
        },
        {
          "output_type": "stream",
          "text": [
            "__________________________________________________________________________________________________\n",
            "Layer (type)                    Output Shape         Param #     Connected to                     \n",
            "==================================================================================================\n",
            "input_1 (InputLayer)            (None, 28, 28, 1)    0                                            \n",
            "__________________________________________________________________________________________________\n",
            "conv2d_1 (Conv2D)               (None, 28, 28, 32)   320         input_1[0][0]                    \n",
            "__________________________________________________________________________________________________\n",
            "conv2d_2 (Conv2D)               (None, 14, 14, 64)   18496       conv2d_1[0][0]                   \n",
            "__________________________________________________________________________________________________\n",
            "conv2d_3 (Conv2D)               (None, 14, 14, 64)   36928       conv2d_2[0][0]                   \n",
            "__________________________________________________________________________________________________\n",
            "conv2d_4 (Conv2D)               (None, 14, 14, 64)   36928       conv2d_3[0][0]                   \n",
            "__________________________________________________________________________________________________\n",
            "flatten_1 (Flatten)             (None, 12544)        0           conv2d_4[0][0]                   \n",
            "__________________________________________________________________________________________________\n",
            "dense_1 (Dense)                 (None, 32)           401440      flatten_1[0][0]                  \n",
            "__________________________________________________________________________________________________\n",
            "dense_2 (Dense)                 (None, 3)            99          dense_1[0][0]                    \n",
            "__________________________________________________________________________________________________\n",
            "dense_3 (Dense)                 (None, 3)            99          dense_1[0][0]                    \n",
            "__________________________________________________________________________________________________\n",
            "lambda_1 (Lambda)               (None, 3)            0           dense_2[0][0]                    \n",
            "                                                                 dense_3[0][0]                    \n",
            "__________________________________________________________________________________________________\n",
            "model_1 (Model)                 (None, 28, 28, 1)    68929       lambda_1[0][0]                   \n",
            "__________________________________________________________________________________________________\n",
            "custom_variational_layer_1 (Cus [(None, 28, 28, 1),  0           input_1[0][0]                    \n",
            "                                                                 model_1[1][0]                    \n",
            "==================================================================================================\n",
            "Total params: 563,239\n",
            "Trainable params: 563,239\n",
            "Non-trainable params: 0\n",
            "__________________________________________________________________________________________________\n",
            "Downloading data from https://s3.amazonaws.com/img-datasets/mnist.npz\n",
            " 4145152/11490434 [=========>....................] - ETA: 3s"
          ],
          "name": "stdout"
        },
        {
          "output_type": "stream",
          "text": [
            "11493376/11490434 [==============================] - 4s 0us/step\n",
            "Train on 60000 samples, validate on 10000 samples\n",
            "Epoch 1/10\n",
            " 7744/60000 [==>...........................] - ETA: 5:41 - loss: 3181.0030"
          ],
          "name": "stdout"
        },
        {
          "output_type": "stream",
          "text": [
            "31376/60000 [==============>...............] - ETA: 3:09 - loss: 785.2611"
          ],
          "name": "stdout"
        },
        {
          "output_type": "stream",
          "text": [
            "60000/60000 [==============================] - 420s 7ms/step - loss: 410.7280 - val_loss: 0.1808\n"
          ],
          "name": "stdout"
        },
        {
          "output_type": "stream",
          "text": [
            "Epoch 2/10\n",
            "41648/60000 [===================>..........] - ETA: 2:01 - loss: 0.1819"
          ],
          "name": "stdout"
        },
        {
          "output_type": "stream",
          "text": [
            "60000/60000 [==============================] - 411s 7ms/step - loss: 0.1820 - val_loss: 0.1818\n",
            "Epoch 3/10\n",
            " 1472/60000 [..............................] - ETA: 6:27 - loss: 0.1825"
          ],
          "name": "stdout"
        },
        {
          "output_type": "stream",
          "text": [
            "23808/60000 [==========>...................] - ETA: 3:54 - loss: 0.1899"
          ],
          "name": "stdout"
        },
        {
          "output_type": "stream",
          "text": [
            "60000/60000 [==============================] - 412s 7ms/step - loss: 0.1906 - val_loss: 0.1845\n"
          ],
          "name": "stdout"
        },
        {
          "output_type": "stream",
          "text": [
            "Epoch 4/10\n",
            "24064/60000 [===========>..................] - ETA: 3:58 - loss: 0.1812"
          ],
          "name": "stdout"
        },
        {
          "output_type": "stream",
          "text": [
            "50464/60000 [========================>.....] - ETA: 1:02 - loss: 0.1802"
          ],
          "name": "stdout"
        },
        {
          "output_type": "stream",
          "text": [
            "60000/60000 [==============================] - 411s 7ms/step - loss: 0.1798 - val_loss: 0.1775\n",
            "Epoch 5/10\n",
            " 4960/60000 [=>............................] - ETA: 5:55 - loss: 0.1772"
          ],
          "name": "stdout"
        },
        {
          "output_type": "stream",
          "text": [
            "27552/60000 [============>.................] - ETA: 3:27 - loss: 0.1765"
          ],
          "name": "stdout"
        },
        {
          "output_type": "stream",
          "text": [
            "58048/60000 [============================>.] - ETA: 12s - loss: 0.1766"
          ],
          "name": "stdout"
        },
        {
          "output_type": "stream",
          "text": [
            "60000/60000 [==============================] - 404s 7ms/step - loss: 0.1766 - val_loss: 0.1765\n",
            "Epoch 6/10\n",
            " 8000/60000 [===>..........................] - ETA: 5:36 - loss: 0.1766"
          ],
          "name": "stdout"
        },
        {
          "output_type": "stream",
          "text": [
            "29856/60000 [=============>................] - ETA: 3:15 - loss: 0.1760"
          ],
          "name": "stdout"
        },
        {
          "output_type": "stream",
          "text": [
            "54704/60000 [==========================>...] - ETA: 34s - loss: 0.1756"
          ],
          "name": "stdout"
        },
        {
          "output_type": "stream",
          "text": [
            "60000/60000 [==============================] - 405s 7ms/step - loss: 0.1755 - val_loss: 0.1754\n",
            "Epoch 7/10\n",
            " 6416/60000 [==>...........................] - ETA: 5:41 - loss: 0.1764\b\b\b\b\b\b\b\b\b\b\b\b\b\b\b\b\b\b\b\b\b\b\b\b\b\b\b\b\b\b\b\b\b\b\b\b\b\b\b\b\b\b\b\b\b\b\b\b\b\b\b\b\b\b\b\b\b\b\b\b\b\b\b\b\b\b\b\b\b\b\b"
          ],
          "name": "stdout"
        },
        {
          "output_type": "stream",
          "text": [
            "26880/60000 [============>.................] - ETA: 3:31 - loss: 0.1760"
          ],
          "name": "stdout"
        },
        {
          "output_type": "stream",
          "text": [
            "47680/60000 [======================>.......] - ETA: 1:18 - loss: 0.1757"
          ],
          "name": "stdout"
        },
        {
          "output_type": "stream",
          "text": [
            "60000/60000 [==============================] - 400s 7ms/step - loss: 0.1755 - val_loss: 0.1722\n",
            "Epoch 8/10\n",
            " 3856/60000 [>.............................] - ETA: 6:02 - loss: 0.1759"
          ],
          "name": "stdout"
        },
        {
          "output_type": "stream",
          "text": [
            "26080/60000 [============>.................] - ETA: 3:38 - loss: 0.1753"
          ],
          "name": "stdout"
        },
        {
          "output_type": "stream",
          "text": [
            "47472/60000 [======================>.......] - ETA: 1:20 - loss: 0.1758"
          ],
          "name": "stdout"
        },
        {
          "output_type": "stream",
          "text": [
            "60000/60000 [==============================] - 402s 7ms/step - loss: 0.1759 - val_loss: 0.1766\n",
            "Epoch 9/10\n",
            " 3408/60000 [>.............................] - ETA: 6:00 - loss: 0.1826\b\b\b\b\b\b\b\b\b\b\b\b\b\b\b\b\b\b\b\b\b\b\b\b\b\b\b\b\b\b\b\b\b\b\b\b\b\b\b\b\b\b\b\b\b\b\b\b\b\b\b\b\b\b\b\b\b\b\b\b\b\b\b\b\b\b\b\b\b\b\b"
          ],
          "name": "stdout"
        },
        {
          "output_type": "stream",
          "text": [
            "28400/60000 [=============>................] - ETA: 3:23 - loss: 0.1761"
          ],
          "name": "stdout"
        },
        {
          "output_type": "stream",
          "text": [
            "49728/60000 [=======================>......] - ETA: 1:06 - loss: 0.1759"
          ],
          "name": "stdout"
        },
        {
          "output_type": "stream",
          "text": [
            "60000/60000 [==============================] - 405s 7ms/step - loss: 0.1761 - val_loss: 0.1793\n",
            "Epoch 10/10\n",
            " 4688/60000 [=>............................] - ETA: 5:56 - loss: 0.1768"
          ],
          "name": "stdout"
        },
        {
          "output_type": "stream",
          "text": [
            "25344/60000 [===========>..................] - ETA: 3:41 - loss: 0.1754"
          ],
          "name": "stdout"
        },
        {
          "output_type": "stream",
          "text": [
            "46608/60000 [======================>.......] - ETA: 1:25 - loss: 0.1764"
          ],
          "name": "stdout"
        },
        {
          "output_type": "stream",
          "text": [
            "60000/60000 [==============================] - 401s 7ms/step - loss: 0.1767 - val_loss: 0.1744\n"
          ],
          "name": "stdout"
        },
        {
          "output_type": "execute_result",
          "data": {
            "text/plain": [
              "<keras.callbacks.History at 0x7f4e6a0d9550>"
            ]
          },
          "metadata": {
            "tags": []
          },
          "execution_count": 6
        }
      ]
    },
    {
      "metadata": {
        "id": "Ry12do56-Rqf",
        "colab_type": "code",
        "colab": {
          "autoexec": {
            "startup": false,
            "wait_interval": 0
          }
        }
      },
      "cell_type": "code",
      "source": [
        "vae.save('./vae_tutorial_model.h5')\n",
        "vae_tutorial_model_json = vae.to_json()\n",
        "with open('./var_tutorial_model_string.json', 'w') as outfile:\n",
        "  json.dump(vae_tutorial_model_json, outfile)"
      ],
      "execution_count": 0,
      "outputs": []
    },
    {
      "metadata": {
        "id": "fLYSRGtKOyOz",
        "colab_type": "code",
        "colab": {
          "autoexec": {
            "startup": false,
            "wait_interval": 0
          }
        }
      },
      "cell_type": "code",
      "source": [
        "files.download('vae_tutorial_model.h5')\n",
        "files.download('var_tutorial_model_string.json')"
      ],
      "execution_count": 0,
      "outputs": []
    },
    {
      "metadata": {
        "id": "-3wvnFhrPmK3",
        "colab_type": "code",
        "colab": {
          "autoexec": {
            "startup": false,
            "wait_interval": 0
          }
        }
      },
      "cell_type": "code",
      "source": [
        ""
      ],
      "execution_count": 0,
      "outputs": []
    }
  ]
}